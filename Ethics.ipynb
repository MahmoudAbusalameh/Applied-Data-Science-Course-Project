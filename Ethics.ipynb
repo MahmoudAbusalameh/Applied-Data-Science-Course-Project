{
 "cells": [
  {
   "cell_type": "markdown",
   "metadata": {},
   "source": [
    "<center><h1> __ETHICS__ </h1></center>"
   ]
  },
  {
   "cell_type": "markdown",
   "metadata": {},
   "source": [
    "## Content\n",
    "This dataset includes a record for each Israeli neighborhood in East Jerusalem and settlement in the West Bank __recognized by Israeli authorities__; therefore, Israeli outposts, constructed without government authorization, and Nahal settlements, established by Israel Defense Forces and thus regarded as military bases, are excluded. \n",
    "Each row includes the settlement name in English and Hebrew, year established, regional council, location in latitude/longitude coordinates and relative to the West Bank Barrier, and population estimates for the past fifteen years."
   ]
  },
  {
   "cell_type": "markdown",
   "metadata": {},
   "source": [
    "## Acknowledgements\n",
    "The settlement population statistics were collected by the Israel Central Bureau of Statistics."
   ]
  },
  {
   "cell_type": "markdown",
   "metadata": {},
   "source": [
    "## Owner \n",
    "Released Under __CC0: Public Domain License__\n",
    "\n",
    "\"The person who associated a work with this deed has dedicated the work to the public domain by waiving all of his or her rights to the work worldwide under copyright law, including all related and neighboring rights, to the extent allowed by law.\"\n",
    "\n",
    "You can __copy__, __modify__, __distribute__ and __perform the work__, even for commercial purposes, all __without__ asking permission."
   ]
  },
  {
   "cell_type": "markdown",
   "metadata": {},
   "source": [
    "## Privacy\n",
    "While collecting the data, no one’s privacy was violated since the data doesn’t contain any personal information about any person."
   ]
  },
  {
   "cell_type": "markdown",
   "metadata": {},
   "source": []
  }
 ],
 "metadata": {
  "anaconda-cloud": {},
  "celltoolbar": "Raw Cell Format",
  "kernelspec": {
   "display_name": "Python [default]",
   "language": "python",
   "name": "python3"
  },
  "language_info": {
   "codemirror_mode": {
    "name": "ipython",
    "version": 3
   },
   "file_extension": ".py",
   "mimetype": "text/x-python",
   "name": "python",
   "nbconvert_exporter": "python",
   "pygments_lexer": "ipython3",
   "version": "3.5.2"
  }
 },
 "nbformat": 4,
 "nbformat_minor": 1
}
